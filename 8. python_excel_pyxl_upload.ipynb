{
 "cells": [
  {
   "cell_type": "code",
   "execution_count": 4,
   "metadata": {},
   "outputs": [],
   "source": [
    "from urllib.request import urlopen\n",
    "from bs4 import BeautifulSoup\n",
    "import openpyxl\n"
   ]
  },
  {
   "cell_type": "code",
   "execution_count": 12,
   "metadata": {},
   "outputs": [],
   "source": [
    "excel_file = openpyxl.Workbook()\n",
    "excel_sheet = excel_file.active\n",
    "\n",
    "excel_sheet.column_dimensions['A'].width = 30\n",
    "excel_sheet.column_dimensions['B'].width = 80\n",
    "cell_A1 = excel_sheet['A1']\n",
    "cell_A1.alignment = openpyxl.styles.Alignment(horizontal = \"center\")\n",
    "\n",
    "num = 0\n",
    "excel_sheet.append(['번호','제목'])\n",
    "for index in range(1,6):\n",
    "    res = urlopen('https://www.fun-coding.org/PL&OOP1-'+str(index)+'.html')\n",
    "    soup = BeautifulSoup(res, \"html.parser\")\n",
    "    \n",
    "    data = soup.findAll('h2')\n",
    "    for item in data:\n",
    "        #print(item.get_text())\n",
    "        num = num + 1\n",
    "        excel_sheet.append([num, item.get_text()])\n",
    "\n",
    "excel_file.save('test.xlsx')\n",
    "excel_file.close()"
   ]
  },
  {
   "cell_type": "code",
   "execution_count": null,
   "metadata": {},
   "outputs": [],
   "source": []
  }
 ],
 "metadata": {
  "kernelspec": {
   "display_name": "Python 3",
   "language": "python",
   "name": "python3"
  },
  "language_info": {
   "codemirror_mode": {
    "name": "ipython",
    "version": 3
   },
   "file_extension": ".py",
   "mimetype": "text/x-python",
   "name": "python",
   "nbconvert_exporter": "python",
   "pygments_lexer": "ipython3",
   "version": "3.7.1"
  }
 },
 "nbformat": 4,
 "nbformat_minor": 2
}
