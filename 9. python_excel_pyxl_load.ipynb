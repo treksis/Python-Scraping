{
 "cells": [
  {
   "cell_type": "code",
   "execution_count": 7,
   "metadata": {},
   "outputs": [
    {
     "name": "stdout",
     "output_type": "stream",
     "text": [
      "None None\n",
      "number title\n",
      "1 1. 프로그래밍 언어론¶\n",
      "2 1. 프로그래밍 언어론¶\n",
      "3 1. 프로그래밍 언어론¶\n",
      "4 1. 프로그래밍 언어론¶\n",
      "5 1. 프로그래밍 언어론¶\n",
      "6 1. 프로그래밍 언어론¶\n",
      "7 1. 프로그래밍 언어론¶\n",
      "8 1. 프로그래밍 언어론¶\n",
      "9 1. 프로그래밍 언어론¶\n",
      "10 1. 프로그래밍 언어론¶\n",
      "11 1. 프로그래밍 언어론¶\n",
      "12 1. 프로그래밍 언어론¶\n",
      "13 2. 객체지향 프로그래밍(Object Oriented Programming)¶\n",
      "14 2. 객체지향 프로그래밍(Object Oriented Programming)¶\n",
      "15 2. 객체지향 프로그래밍(Object Oriented Programming)¶\n",
      "16 정리: class(설계도), object(객체), attribute(변수), method(함수)¶\n",
      "17 정리: class(설계도), object(객체), attribute(변수), method(함수)¶\n",
      "18 정리: class(설계도), object(객체), attribute(변수), method(함수)¶\n",
      "19 3. 예제로 이해하는 객체지향 문법 (class와 object)¶\n",
      "20 3. 예제로 이해하는 객체지향 문법 (class와 object)¶\n",
      "21 3. 예제로 이해하는 객체지향 문법 (class와 object)¶\n",
      "22 3. 예제로 이해하는 객체지향 문법 (class와 object)¶\n",
      "23 3. 예제로 이해하는 객체지향 문법 (class와 object)¶\n",
      "24 3. 예제로 이해하는 객체지향 문법 (class와 object)¶\n",
      "25 3. 예제로 이해하는 객체지향 문법 (class와 object)¶\n",
      "26 3. 예제로 이해하는 객체지향 문법 (class와 object)¶\n",
      "27 4. 예제로 이해하는 객체지향 문법 (생성자와 소멸자 메서드)¶\n",
      "28 4. 예제로 이해하는 객체지향 문법 (생성자와 소멸자 메서드)¶\n",
      "29 4. 예제로 이해하는 객체지향 문법 (생성자와 소멸자 메서드)¶\n",
      "30 5. 예제로 이해하는 객체지향 문법 (public, private, protected)¶\n",
      "31 5. 예제로 이해하는 객체지향 문법 (public, private, protected)¶\n",
      "32 5. 예제로 이해하는 객체지향 문법 (public, private, protected)¶\n",
      "33 5. 예제로 이해하는 객체지향 문법 (public, private, protected)¶\n",
      "34 6. 예제로 이해하는 객체지향 문법 (상속)¶\n",
      "35 6. 예제로 이해하는 객체지향 문법 (상속)¶\n",
      "36 6. 예제로 이해하는 객체지향 문법 (상속)¶\n",
      "37 6. 예제로 이해하는 객체지향 문법 (상속)¶\n",
      "38 6. 예제로 이해하는 객체지향 문법 (상속)¶\n",
      "39 6. 예제로 이해하는 객체지향 문법 (상속)¶\n",
      "40 6. 예제로 이해하는 객체지향 문법 (상속)¶\n",
      "41 6. 예제로 이해하는 객체지향 문법 (상속)¶\n",
      "42 6. 예제로 이해하는 객체지향 문법 (상속)¶\n",
      "43 6. 예제로 이해하는 객체지향 문법 (상속)¶\n",
      "44 6. 예제로 이해하는 객체지향 문법 (상속)¶\n",
      "45 6. 예제로 이해하는 객체지향 문법 (상속)¶\n",
      "46 6. 예제로 이해하는 객체지향 문법 (상속)¶\n",
      "47 7. 한발짝 깊게 들어가는 클래스 속성과 메서드¶\n",
      "48 7. 한발짝 깊게 들어가는 클래스 속성과 메서드¶\n",
      "49 7. 한발짝 깊게 들어가는 클래스 속성과 메서드¶\n",
      "50 7. 한발짝 깊게 들어가는 클래스 속성과 메서드¶\n",
      "51 7. 한발짝 깊게 들어가는 클래스 속성과 메서드¶\n",
      "52 8. 다형성(polymorphism)¶\n",
      "53 8. 다형성(polymorphism)¶\n",
      "54 9. 연산자 중복 정의(Operator Overloading)¶\n",
      "55 Quadrangle + Figure = Quadrangle(widths, heights)¶\n",
      "56 10. 다중 상속¶\n"
     ]
    }
   ],
   "source": [
    "import openpyxl\n",
    "\n",
    "excel_file = openpyxl.load_workbook('test.xlsx')\n",
    "excel_sheet = excel_file.active\n",
    "\n",
    "#excel_sheet = excel_file.get_sheet_byname('IT뉴스')\n",
    "for row in excel_sheet.rows:\n",
    "    print(row[0].value, row[1].value)\n",
    "       \n",
    "excel_file.close()"
   ]
  },
  {
   "cell_type": "code",
   "execution_count": null,
   "metadata": {},
   "outputs": [],
   "source": []
  }
 ],
 "metadata": {
  "kernelspec": {
   "display_name": "Python 3",
   "language": "python",
   "name": "python3"
  },
  "language_info": {
   "codemirror_mode": {
    "name": "ipython",
    "version": 3
   },
   "file_extension": ".py",
   "mimetype": "text/x-python",
   "name": "python",
   "nbconvert_exporter": "python",
   "pygments_lexer": "ipython3",
   "version": "3.7.1"
  }
 },
 "nbformat": 4,
 "nbformat_minor": 2
}
