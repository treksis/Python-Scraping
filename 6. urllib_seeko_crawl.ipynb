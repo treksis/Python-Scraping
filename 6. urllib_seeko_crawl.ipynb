{
 "cells": [
  {
   "cell_type": "code",
   "execution_count": 38,
   "metadata": {},
   "outputs": [
    {
     "name": "stdout",
     "output_type": "stream",
     "text": [
      "['', '\\t\\t\\t\\t\\t위딩스의 스마트 혈압측정기\\t\\t\\t\\t\\t\\t\\t\\t\\t']\n",
      "['', '\\t\\t\\t\\t\\t콘솔 전용 게이밍 헤드셋, 터틀 비치의 국내 상륙\\t\\t\\t\\t\\t\\t\\t\\t\\t']\n",
      "['', '\\t\\t\\t\\t\\t레이저의 고주사율 게이밍 노트북 RAZER BLADE Pro 17\\t\\t\\t\\t\\t\\t\\t\\t\\t']\n",
      "['', '', '', '1', '', '\\t\\t\\t\\t\\t장비발 높여주는 게이밍 액세서리 : 듀얼쇼크 4 백 버튼\\t\\t\\t\\t\\t\\t\\t\\t\\t\\t\\t1', '']\n",
      "['', '', '', '1', '', \"\\t\\t\\t\\t\\t모비프렌, 80시간 음악 재생 TWS '솔로' 발표\\t\\t\\t\\t\\t\\t\\t\\t\\t\\t\\t1\", '']\n",
      "['', '', '', '1', '', '\\t\\t\\t\\t\\t2020년의 첨단 킥보드 : 드래곤플라이\\t\\t\\t\\t\\t\\t\\t\\t\\t\\t\\t1', '']\n",
      "['', '\\t\\t\\t\\t\\t빨콩 감성으로 무선 이어폰을 만들면? TrackPods\\t\\t\\t\\t\\t\\t\\t\\t\\t']\n",
      "['', '\\t\\t\\t\\t\\t오래 가서 외롭지 않은 와이어리스 이어폰 : 모비프렌 솔로\\t\\t\\t\\t\\t\\t\\t\\t\\t']\n",
      "['', '', '', '5', '', '\\t\\t\\t\\t\\t애플의 900만원짜리 전문가용 모니터 : 프로 디스플레이 XDR\\t\\t\\t\\t\\t\\t\\t\\t\\t\\t\\t5', '']\n",
      "['', '\\t\\t\\t\\t\\t한 차원 더 힙해진 완전 무선 이어폰 : 어바니스타 파리\\t\\t\\t\\t\\t\\t\\t\\t\\t']\n",
      "['', '', '', '1', '', '\\t\\t\\t\\t\\t가볍고 예쁜 색감의 삼성 갤럭시 A51과 A71\\t\\t\\t\\t\\t\\t\\t\\t\\t\\t\\t1', '']\n",
      "['', '\\t\\t\\t\\t\\t꽉 막힌 와이파이를 빵빵하게 : 링크시스 벨롭 리뷰\\t\\t\\t\\t\\t\\t\\t\\t\\t']\n",
      "['', '\\t\\t\\t\\t\\t또 하나의 에어팟 : 엔코 프리\\t\\t\\t\\t\\t\\t\\t\\t\\t']\n",
      "['', '\\t\\t\\t\\t\\t보스 QC35 II 한정판 헤드폰, 스타워즈 라이즈 오브 스카이워커 에디션\\t\\t\\t\\t\\t\\t\\t\\t\\t']\n",
      "['', '\\t\\t\\t\\t\\t쿼드 카메라의 가성비 스마트폰, 샤오미 홍미노트8T 국내 출시\\t\\t\\t\\t\\t\\t\\t\\t\\t']\n"
     ]
    }
   ],
   "source": [
    "import requests\n",
    "from bs4 import BeautifulSoup\n",
    "from urllib.request import urlopen\n",
    "\n",
    "res = requests.get('https://seeko.earlyadopter.co.kr/bbs/board.php?bo_table=mainnews')\n",
    "soup = BeautifulSoup(res.content, 'html.parser')\n",
    "\n",
    "data = soup.findAll('a', 'item-subject')\n",
    "data\n",
    "for item in data:\n",
    "    print(item.get_text().split('\\n'))"
   ]
  },
  {
   "cell_type": "code",
   "execution_count": 40,
   "metadata": {},
   "outputs": [
    {
     "name": "stdout",
     "output_type": "stream",
     "text": [
      "위딩스의 스마트 혈압측정기\n",
      "콘솔 전용 게이밍 헤드셋, 터틀 비치의 국내 상륙\n",
      "레이저의 고주사율 게이밍 노트북 RAZER BLADE Pro 17\n",
      "1\n",
      "\n",
      "\t\t\t\t\t장비발 높여주는 게이밍 액세서리 : 듀얼쇼크 4 백 버튼\t\t\t\t\t\t\t\t\t\t\t1\n",
      "1\n",
      "\n",
      "\t\t\t\t\t모비프렌, 80시간 음악 재생 TWS '솔로' 발표\t\t\t\t\t\t\t\t\t\t\t1\n",
      "1\n",
      "\n",
      "\t\t\t\t\t2020년의 첨단 킥보드 : 드래곤플라이\t\t\t\t\t\t\t\t\t\t\t1\n",
      "빨콩 감성으로 무선 이어폰을 만들면? TrackPods\n",
      "오래 가서 외롭지 않은 와이어리스 이어폰 : 모비프렌 솔로\n",
      "5\n",
      "\n",
      "\t\t\t\t\t애플의 900만원짜리 전문가용 모니터 : 프로 디스플레이 XDR\t\t\t\t\t\t\t\t\t\t\t5\n",
      "한 차원 더 힙해진 완전 무선 이어폰 : 어바니스타 파리\n",
      "1\n",
      "\n",
      "\t\t\t\t\t가볍고 예쁜 색감의 삼성 갤럭시 A51과 A71\t\t\t\t\t\t\t\t\t\t\t1\n",
      "꽉 막힌 와이파이를 빵빵하게 : 링크시스 벨롭 리뷰\n",
      "또 하나의 에어팟 : 엔코 프리\n",
      "보스 QC35 II 한정판 헤드폰, 스타워즈 라이즈 오브 스카이워커 에디션\n",
      "쿼드 카메라의 가성비 스마트폰, 샤오미 홍미노트8T 국내 출시\n"
     ]
    }
   ],
   "source": [
    "for item in data:\n",
    "    print(item.get_text().strip())"
   ]
  },
  {
   "cell_type": "code",
   "execution_count": 44,
   "metadata": {},
   "outputs": [
    {
     "name": "stdout",
     "output_type": "stream",
     "text": [
      "\n",
      "\t\t\t\t\t위딩스의 스마트 혈압측정기\t\t\t\t\t\t\t\t\t\n",
      "\n",
      "\t\t\t\t\t콘솔 전용 게이밍 헤드셋, 터틀 비치의 국내 상륙\t\t\t\t\t\t\t\t\t\n",
      "\n",
      "\t\t\t\t\t레이저의 고주사율 게이밍 노트북 RAZER BLADE Pro 17\t\t\t\t\t\t\t\t\t\n",
      "\n",
      "\n",
      "\n",
      "1\n",
      "\n",
      "\t\t\t\t\t장비발 높여주는 게이밍 액세서리 : 듀얼쇼크 4 백 버튼\t\t\t\t\t\t\t\t\t\t\t1\n",
      "\n",
      "\n",
      "\n",
      "\n",
      "1\n",
      "\n",
      "\t\t\t\t\t모비프렌, 80시간 음악 재생 TWS '솔로' 발표\t\t\t\t\t\t\t\t\t\t\t1\n",
      "\n",
      "\n",
      "\n",
      "\n",
      "1\n",
      "\n",
      "\t\t\t\t\t2020년의 첨단 킥보드 : 드래곤플라이\t\t\t\t\t\t\t\t\t\t\t1\n",
      "\n",
      "\n",
      "\t\t\t\t\t빨콩 감성으로 무선 이어폰을 만들면? TrackPods\t\t\t\t\t\t\t\t\t\n",
      "\n",
      "\t\t\t\t\t오래 가서 외롭지 않은 와이어리스 이어폰 : 모비프렌 솔로\t\t\t\t\t\t\t\t\t\n",
      "\n",
      "\n",
      "\n",
      "5\n",
      "\n",
      "\t\t\t\t\t애플의 900만원짜리 전문가용 모니터 : 프로 디스플레이 XDR\t\t\t\t\t\t\t\t\t\t\t5\n",
      "\n",
      "\n",
      "\t\t\t\t\t한 차원 더 힙해진 완전 무선 이어폰 : 어바니스타 파리\t\t\t\t\t\t\t\t\t\n",
      "\n",
      "\n",
      "\n",
      "1\n",
      "\n",
      "\t\t\t\t\t가볍고 예쁜 색감의 삼성 갤럭시 A51과 A71\t\t\t\t\t\t\t\t\t\t\t1\n",
      "\n",
      "\n",
      "\t\t\t\t\t꽉 막힌 와이파이를 빵빵하게 : 링크시스 벨롭 리뷰\t\t\t\t\t\t\t\t\t\n",
      "\n",
      "\t\t\t\t\t또 하나의 에어팟 : 엔코 프리\t\t\t\t\t\t\t\t\t\n",
      "\n",
      "\t\t\t\t\t보스 QC35 II 한정판 헤드폰, 스타워즈 라이즈 오브 스카이워커 에디션\t\t\t\t\t\t\t\t\t\n",
      "\n",
      "\t\t\t\t\t쿼드 카메라의 가성비 스마트폰, 샤오미 홍미노트8T 국내 출시\t\t\t\t\t\t\t\t\t\n"
     ]
    }
   ],
   "source": [
    "import requests\n",
    "from bs4 import BeautifulSoup\n",
    "from urllib.request import urlopen\n",
    "\n",
    "res = requests.get('https://seeko.earlyadopter.co.kr/bbs/board.php?bo_table=mainnews')\n",
    "soup = BeautifulSoup(res.content, 'html.parser')\n",
    "\n",
    "data = soup.select('#fboardlist > div.list-board > ul > li > div.wr-subject > a')\n",
    "data\n",
    "for item in data:\n",
    "    print(item.get_text())"
   ]
  },
  {
   "cell_type": "code",
   "execution_count": 47,
   "metadata": {},
   "outputs": [
    {
     "name": "stdout",
     "output_type": "stream",
     "text": [
      "\n",
      "\t\t\t\t\t위딩스의 스마트 혈압측정기\t\t\t\t\t\t\t\t\t\n",
      "\n",
      "\t\t\t\t\t콘솔 전용 게이밍 헤드셋, 터틀 비치의 국내 상륙\t\t\t\t\t\t\t\t\t\n",
      "\n",
      "\t\t\t\t\t레이저의 고주사율 게이밍 노트북 RAZER BLADE Pro 17\t\t\t\t\t\t\t\t\t\n",
      "\n",
      "\n",
      "\n",
      "1\n",
      "\n",
      "\t\t\t\t\t장비발 높여주는 게이밍 액세서리 : 듀얼쇼크 4 백 버튼\t\t\t\t\t\t\t\t\t\t\t1\n",
      "\n",
      "\n",
      "\n",
      "\n",
      "1\n",
      "\n",
      "\t\t\t\t\t모비프렌, 80시간 음악 재생 TWS '솔로' 발표\t\t\t\t\t\t\t\t\t\t\t1\n",
      "\n",
      "\n",
      "\n",
      "\n",
      "1\n",
      "\n",
      "\t\t\t\t\t2020년의 첨단 킥보드 : 드래곤플라이\t\t\t\t\t\t\t\t\t\t\t1\n",
      "\n",
      "\n",
      "\t\t\t\t\t빨콩 감성으로 무선 이어폰을 만들면? TrackPods\t\t\t\t\t\t\t\t\t\n",
      "\n",
      "\t\t\t\t\t오래 가서 외롭지 않은 와이어리스 이어폰 : 모비프렌 솔로\t\t\t\t\t\t\t\t\t\n",
      "\n",
      "\n",
      "\n",
      "5\n",
      "\n",
      "\t\t\t\t\t애플의 900만원짜리 전문가용 모니터 : 프로 디스플레이 XDR\t\t\t\t\t\t\t\t\t\t\t5\n",
      "\n",
      "\n",
      "\t\t\t\t\t한 차원 더 힙해진 완전 무선 이어폰 : 어바니스타 파리\t\t\t\t\t\t\t\t\t\n",
      "\n",
      "\n",
      "\n",
      "1\n",
      "\n",
      "\t\t\t\t\t가볍고 예쁜 색감의 삼성 갤럭시 A51과 A71\t\t\t\t\t\t\t\t\t\t\t1\n",
      "\n",
      "\n",
      "\t\t\t\t\t꽉 막힌 와이파이를 빵빵하게 : 링크시스 벨롭 리뷰\t\t\t\t\t\t\t\t\t\n",
      "\n",
      "\t\t\t\t\t또 하나의 에어팟 : 엔코 프리\t\t\t\t\t\t\t\t\t\n",
      "\n",
      "\t\t\t\t\t보스 QC35 II 한정판 헤드폰, 스타워즈 라이즈 오브 스카이워커 에디션\t\t\t\t\t\t\t\t\t\n",
      "\n",
      "\t\t\t\t\t쿼드 카메라의 가성비 스마트폰, 샤오미 홍미노트8T 국내 출시\t\t\t\t\t\t\t\t\t\n"
     ]
    }
   ],
   "source": [
    "import requests\n",
    "from bs4 import BeautifulSoup\n",
    "from urllib.request import urlopen\n",
    "\n",
    "res = urlopen('https://seeko.earlyadopter.co.kr/bbs/board.php?bo_table=mainnews')\n",
    "soup = BeautifulSoup(res, \"html.parser\")\n",
    "\n",
    "data = soup.select('#fboardlist > div.list-board > ul > li > div.wr-subject > a')\n",
    "data\n",
    "for item in data:\n",
    "    print(item.get_text())"
   ]
  },
  {
   "cell_type": "code",
   "execution_count": null,
   "metadata": {},
   "outputs": [],
   "source": []
  }
 ],
 "metadata": {
  "kernelspec": {
   "display_name": "Python 3",
   "language": "python",
   "name": "python3"
  },
  "language_info": {
   "codemirror_mode": {
    "name": "ipython",
    "version": 3
   },
   "file_extension": ".py",
   "mimetype": "text/x-python",
   "name": "python",
   "nbconvert_exporter": "python",
   "pygments_lexer": "ipython3",
   "version": "3.7.1"
  }
 },
 "nbformat": 4,
 "nbformat_minor": 2
}
