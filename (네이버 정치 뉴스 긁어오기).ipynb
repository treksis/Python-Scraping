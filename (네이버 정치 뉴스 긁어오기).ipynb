{
 "cells": [
  {
   "cell_type": "code",
   "execution_count": 22,
   "metadata": {},
   "outputs": [
    {
     "name": "stdout",
     "output_type": "stream",
     "text": [
      "황교안의 ‘보수통합 열차’, 출발한 지 하루 만에 덜컹\n",
      "만18세 고교생 정의당 입당⋯16명 포옹하며 눈물 흘린 …\n",
      "\"검찰 소신 지켜주겠다고 했는데 여전히 유효한가?\" 윤석열 …\n",
      "유시민, 진중권 향해 \"최대한 존중하며 작별하는게 좋겠다\"\n",
      "[팩트체크] '이란 군 사령관 드론 피격 실제 영상?' 확인해…\n",
      "연 2천만원 이하 임대소득도 과세…'꼼수' 집중단속\n",
      "\"부모 돈 빌렸어요\" 안 통한다…깐깐해진 집값 조달계획서\n",
      "'맘스터치' 시끌…회장 1900억에 넘긴 후 무슨 일이\n",
      "신세계, BTS 상표권 포기 \"활동 응원\"\n",
      "“딸이 남긴 전 재산인데”…90세 할머니에 ‘라임 펀드’ 불완…\n",
      "유시민 \"진중권과 최대한 존중하며 작별\"… 진중권 \"그럴수…\n",
      "스쿨존 제한속도 낮추고, 차량은 ‘일단 멈춤’\n",
      "[TF현장] 윤석열, 들어갈 땐 '묵묵부답'…나올 땐 \"수고 많…\n",
      "산후조리원서 신생아 잇단 감염…겨울철 바이러스 비상\n",
      "어린이집 차량, 트럭 충돌 뒤 다리 밑 추락…11명 부상(종합…\n",
      "윰댕, 대도서관 결혼 전 이혼…아들도 있었다 [전문]\n",
      "“한강? PAV로 날아갈게 기다려”…현대차 ‘미래 비전’ 발표\n",
      "'한겨울에 반소매?' 역대 최고 더웠던 1월 제주…이유는\n",
      "적극적 性생활 탓?… 남성 구강 공격하는 'HPV'\n",
      "여성 성기 노래하다 잘린 '아콰피나', 골든글로브로 활짝 피…\n",
      "솔레이마니 장례식서 압사, 40명으로 늘어…\"장례식 중단\"\n",
      "'폐렴 의심' 中 여성, 격리 거부하고 홍콩 거리 활보…\"강제…\n",
      "이케아, 서랍장에 깔려 사망한 아동 유족에 540억 지급\n",
      "\"솔레이마니 장례서 32명 압사…장례절차 중단\"\n",
      "앞발 없다고 버려진 개가 보인 행동… 1000만 울린 영상\n",
      "한겨울 23도, 120㎜ 폭우…날씨가 왜 이래?\n",
      "터미네이터 현실로?…삼성전자 '인공 인간' 깜짝 놀랄 경지\n",
      "\"카톡으로 공동구매\" 카카오 `톡딜` 떴다\n",
      "[IT애정남] 본인 인증을 할 때 자꾸 PASS 앱이 뜨는 이유…\n",
      "애플 5G 아이폰, 제때 나오기 힘들다\n"
     ]
    }
   ],
   "source": [
    "import requests\n",
    "from bs4 import BeautifulSoup\n",
    "res = requests.get('https://news.naver.com/main/ranking/popularDay.nhn?mid=etc&sid1=111')\n",
    "soup = BeautifulSoup(res.content,'html.parser')\n",
    "data = soup.select('div ol li dl dt a')\n",
    "for item in data:\n",
    "    print(item.get_text())"
   ]
  },
  {
   "cell_type": "code",
   "execution_count": 37,
   "metadata": {},
   "outputs": [
    {
     "name": "stdout",
     "output_type": "stream",
     "text": [
      "황교안의 ‘보수통합 열차’, 출발한 지 하루 만에 덜컹\n",
      "만18세 고교생 정의당 입당⋯16명 포옹하며 눈물 흘린 심상정\n",
      "\"검찰 소신 지켜주겠다고 했는데 여전히 유효한가?\" 윤석열 묵묵부…\n",
      "유시민, 진중권 향해 \"최대한 존중하며 작별하는게 좋겠다\"\n",
      "[팩트체크] '이란 군 사령관 드론 피격 실제 영상?' 확인해보니\n",
      "유시민, 진중권 향해 \"최대한 존중하며 작별하는게 좋겠다\"\n",
      "해리스 美대사 \"韓병력 중동 파견 희망\"…'호르무즈 파병' 요청\n",
      "북악산에 패트리어트 배치...北 미사일 요격 대비?\n",
      "추미애 법무부 장관, 檢인사 주중 단행 가능성…강한 반발 예상\n",
      "유시민 \"윤석열, 힘으로 제압하지 않으면 통제 불가능\"\n",
      "정세균 의전서열 '공격'하다 황교안 '역공' 당한 한국당\n",
      "문 대통령 “김정은 답방 위해 남북 함께 노력하자”\n",
      "한국당·새보수당 첫 회동서 삐끗… \"黃진정성 의심\" vs \"발언 왜곡…\n",
      "文 “부동산 투기와의 전쟁, 지지 않을 것”… 고강도 규제 또 나오나\n",
      "해리스 대사, 호르무즈 파병 촉구… \"韓병력 중동에 보내길 희망\"\n",
      "황교안 \"文정권 실정·폭정 이겨내고 대한민국 살리기 위해 자유우…\n",
      "[단독] 황교안, 하태경에 “새보수당 뺀 통합 안돼...통합 아니면 죽…\n",
      "한국당 \"화성시, 정세균 왕국\"…丁 \"인격 모독\"(종합)\n",
      "스쿨존 불법 주정차하면 12만원…일반도로 2~3배 과태료 더 낸다\n",
      "아버지와 달랐다…김정은, 보란듯이 현지지도 공개 활동\n",
      "文 \"전쟁\" 표현까지 써가며…`집값잡기` 고강도 대책 예고\n",
      "\"삼권 분립 논란 송구\"...협치 내각 띄운 정세균\n",
      "[단독] '문재인의 남자' 윤건영, 구로을 출마 확정\n",
      "\"최대한 존중하며 작별하자\" 유시민 진중권과 '정치적 결별' 선언\n",
      "당 지도부 ‘황교안 당선 가능 ‘험지’ 찾으라…종로 빼고’\n",
      "\"뭉쳐야 산다\" 한국당 빅텐트론…출발도 하기 전 '삐걱'\n",
      "황교안, ‘유승민 3원칙’ 수용 보류…김진태 등 친박계 반발\n",
      "조국 비리 '관행'…與 영입 청년들 발언 일파만파, 野 일제히 비판(…\n",
      "정세균 \"축의금 3억 세금 안낸 건 '상례' 벗어날 정도 아니라서\"\n",
      "밖으론 북, 안으론 부동산 '정면돌파'…신년사 의미는?\n"
     ]
    }
   ],
   "source": [
    "import requests\n",
    "from bs4 import BeautifulSoup\n",
    "res = requests.get('https://news.naver.com/main/ranking/popularDay.nhn?rankingType=popular_day&sectionId=100&date=20200108')\n",
    "soup = BeautifulSoup(res.content,'html.parser')\n",
    "data = soup.select('div ol div.ranking_headline a')\n",
    "for item in data:\n",
    "    print(item.get_text())"
   ]
  },
  {
   "cell_type": "code",
   "execution_count": 38,
   "metadata": {},
   "outputs": [
    {
     "name": "stdout",
     "output_type": "stream",
     "text": [
      "18,531\n",
      "17,779\n",
      "13,855\n",
      "9,974\n",
      "9,883\n",
      "9,713\n",
      "9,651\n",
      "7,788\n",
      "6,944\n",
      "6,642\n",
      "6,640\n",
      "6,595\n",
      "5,811\n",
      "5,516\n",
      "5,033\n",
      "4,656\n",
      "4,566\n",
      "4,511\n",
      "4,376\n",
      "4,342\n",
      "4,134\n",
      "4,132\n",
      "3,966\n",
      "3,917\n",
      "3,875\n",
      "3,636\n",
      "3,243\n",
      "3,107\n",
      "2,554\n",
      "2,536\n"
     ]
    }
   ],
   "source": [
    "import requests\n",
    "from bs4 import BeautifulSoup\n",
    "res = requests.get('https://news.naver.com/main/ranking/popularDay.nhn?rankingType=popular_day&sectionId=100&date=20200108')\n",
    "soup = BeautifulSoup(res.content,'html.parser')\n",
    "data = soup.select('div div.ranking_view')\n",
    "for item in data:\n",
    "    print(item.get_text())"
   ]
  },
  {
   "cell_type": "code",
   "execution_count": null,
   "metadata": {},
   "outputs": [],
   "source": []
  }
 ],
 "metadata": {
  "kernelspec": {
   "display_name": "Python 3",
   "language": "python",
   "name": "python3"
  },
  "language_info": {
   "codemirror_mode": {
    "name": "ipython",
    "version": 3
   },
   "file_extension": ".py",
   "mimetype": "text/x-python",
   "name": "python",
   "nbconvert_exporter": "python",
   "pygments_lexer": "ipython3",
   "version": "3.7.1"
  }
 },
 "nbformat": 4,
 "nbformat_minor": 2
}
