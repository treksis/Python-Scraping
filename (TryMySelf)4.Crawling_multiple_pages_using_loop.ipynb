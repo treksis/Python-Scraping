{
 "cells": [
  {
   "cell_type": "code",
   "execution_count": 1,
   "metadata": {},
   "outputs": [
    {
     "name": "stdout",
     "output_type": "stream",
     "text": [
      "1. 프로그래밍 언어론¶\n",
      "2. 객체지향 프로그래밍(Object Oriented Programming)¶\n",
      "정리: class(설계도), object(객체), attribute(변수), method(함수)¶\n",
      "3. 예제로 이해하는 객체지향 문법 (class와 object)¶\n",
      "4. 예제로 이해하는 객체지향 문법 (생성자와 소멸자 메서드)¶\n",
      "5. 예제로 이해하는 객체지향 문법 (public, private, protected)¶\n"
     ]
    }
   ],
   "source": [
    "from urllib.request import urlopen\n",
    "from bs4 import BeautifulSoup\n",
    "\n",
    "for index in range(1,6):\n",
    "    res = urlopen('https://www.fun-coding.org/PL&OOP1-'+ str(index) + '.html')\n",
    "    soup = BeautifulSoup(res, \"html.parser\")\n",
    "    \n",
    "    data = data = soup.findAll('h2')\n",
    "    for item in data:\n",
    "        print(item.get_text())"
   ]
  },
  {
   "cell_type": "code",
   "execution_count": null,
   "metadata": {},
   "outputs": [],
   "source": []
  }
 ],
 "metadata": {
  "kernelspec": {
   "display_name": "Python 3",
   "language": "python",
   "name": "python3"
  },
  "language_info": {
   "codemirror_mode": {
    "name": "ipython",
    "version": 3
   },
   "file_extension": ".py",
   "mimetype": "text/x-python",
   "name": "python",
   "nbconvert_exporter": "python",
   "pygments_lexer": "ipython3",
   "version": "3.7.1"
  }
 },
 "nbformat": 4,
 "nbformat_minor": 2
}
