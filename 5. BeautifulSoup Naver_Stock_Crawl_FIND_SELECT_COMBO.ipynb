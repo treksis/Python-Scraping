{
 "cells": [
  {
   "cell_type": "code",
   "execution_count": 1,
   "metadata": {},
   "outputs": [
    {
     "name": "stdout",
     "output_type": "stream",
     "text": [
      "신라젠\n",
      "삼성전자\n",
      "흥구석유\n",
      "삼성전자우\n",
      "셀트리온\n",
      "고려신용정보\n",
      "카카오\n",
      "SK하이닉스\n",
      "에스에스알\n",
      "LG생활건강\n"
     ]
    }
   ],
   "source": [
    "import requests\n",
    "from bs4 import BeautifulSoup\n",
    "res = requests.get('https://finance.naver.com/sise/')\n",
    "soup = BeautifulSoup(res.content,'html.parser')\n",
    "data = soup.select('#popularItemList > li > a')\n",
    "for item in data:\n",
    "    print(item.get_text())"
   ]
  },
  {
   "cell_type": "code",
   "execution_count": 4,
   "metadata": {},
   "outputs": [
    {
     "name": "stdout",
     "output_type": "stream",
     "text": [
      "다우산업\n",
      " 나스닥\n",
      " 홍콩H\n",
      " 상해종합\n",
      " 니케이225\n"
     ]
    }
   ],
   "source": [
    "import requests\n",
    "from bs4 import BeautifulSoup\n",
    "res = requests.get('https://finance.naver.com/sise/')\n",
    "soup = BeautifulSoup(res.content,'html.parser')\n",
    "data = soup.select('div.rgt > ul.lst_major > li > a')\n",
    "for item in data:\n",
    "    print(item.get_text())"
   ]
  },
  {
   "cell_type": "code",
   "execution_count": 5,
   "metadata": {},
   "outputs": [
    {
     "name": "stdout",
     "output_type": "stream",
     "text": [
      "다우산업28,583.68하락\n",
      " 나스닥9,068.58하락\n",
      " 홍콩H11,198.75상승\n",
      " 상해종합3,104.80상승\n",
      " 니케이22523,575.72상승\n"
     ]
    }
   ],
   "source": [
    "import requests\n",
    "from bs4 import BeautifulSoup\n",
    "res = requests.get('https://finance.naver.com/sise/')\n",
    "soup = BeautifulSoup(res.content,'html.parser')\n",
    "data = soup.select('div.rgt > ul.lst_major > li')\n",
    "for item in data:\n",
    "    print(item.get_text())"
   ]
  },
  {
   "cell_type": "code",
   "execution_count": 8,
   "metadata": {},
   "outputs": [
    {
     "name": "stdout",
     "output_type": "stream",
     "text": [
      "<li><a href=\"/world/sise.nhn?symbol=DJI@DJI&amp;fdtc=0\" onclick=\"clickcr(this,'wst.dow','','',event)\">다우산업</a><span class=\"dn\">28,583.68</span><em class=\"bu_p bu_pdn\"><span class=\"blind\">하락</span></em></li>\n",
      "<li><a href=\"/world/sise.nhn?symbol=NAS@IXIC&amp;fdtc=0\" onclick=\"clickcr(this,'wst.nasdaq','','',event)\"> 나스닥</a><span class=\"dn\">9,068.58</span><em class=\"bu_p bu_pdn\"><span class=\"blind\">하락</span></em></li>\n",
      "<li><a href=\"/world/sise.nhn?symbol=HSI@HSCE&amp;fdtc=0\" onclick=\"clickcr(this,'wst.hsce','','',event)\"> 홍콩H</a><span class=\"up\">11,198.75</span><em class=\"bu_p bu_pup\"><span class=\"blind\">상승</span></em></li>\n",
      "<li><a href=\"/world/sise.nhn?symbol=SHS@000001&amp;fdtc=0\" onclick=\"clickcr(this,'wst.shs','','',event)\"> 상해종합</a><span class=\"up\">3,104.80</span><em class=\"bu_p bu_pup\"><span class=\"blind\">상승</span></em></li>\n",
      "<li><a href=\"/world/sise.nhn?symbol=NII@NI225&amp;fdtc=0\" onclick=\"clickcr(this,'wst.ni225','','',event)\"> 니케이225</a><span class=\"up\">23,575.72</span><em class=\"bu_p bu_pup\"><span class=\"blind\">상승</span></em></li>\n"
     ]
    }
   ],
   "source": [
    "import requests\n",
    "from bs4 import BeautifulSoup\n",
    "res = requests.get('https://finance.naver.com/sise/')\n",
    "soup = BeautifulSoup(res.content,'html.parser')\n",
    "data = soup.select('div.rgt > ul.lst_major > li')\n",
    "for item in data:\n",
    "    print(item)"
   ]
  },
  {
   "cell_type": "code",
   "execution_count": 9,
   "metadata": {},
   "outputs": [
    {
     "name": "stdout",
     "output_type": "stream",
     "text": [
      "[<a href=\"/world/sise.nhn?symbol=DJI@DJI&amp;fdtc=0\" onclick=\"clickcr(this,'wst.dow','','',event)\">다우산업</a>]\n",
      "[<a href=\"/world/sise.nhn?symbol=NAS@IXIC&amp;fdtc=0\" onclick=\"clickcr(this,'wst.nasdaq','','',event)\"> 나스닥</a>]\n",
      "[<a href=\"/world/sise.nhn?symbol=HSI@HSCE&amp;fdtc=0\" onclick=\"clickcr(this,'wst.hsce','','',event)\"> 홍콩H</a>]\n",
      "[<a href=\"/world/sise.nhn?symbol=SHS@000001&amp;fdtc=0\" onclick=\"clickcr(this,'wst.shs','','',event)\"> 상해종합</a>]\n",
      "[<a href=\"/world/sise.nhn?symbol=NII@NI225&amp;fdtc=0\" onclick=\"clickcr(this,'wst.ni225','','',event)\"> 니케이225</a>]\n"
     ]
    }
   ],
   "source": [
    "import requests\n",
    "from bs4 import BeautifulSoup\n",
    "res = requests.get('https://finance.naver.com/sise/')\n",
    "soup = BeautifulSoup(res.content,'html.parser')\n",
    "data = soup.select('div.rgt > ul.lst_major > li')\n",
    "for item in data:\n",
    "    print(item.select('a'))"
   ]
  },
  {
   "cell_type": "code",
   "execution_count": 10,
   "metadata": {},
   "outputs": [
    {
     "name": "stdout",
     "output_type": "stream",
     "text": [
      "<a href=\"/world/sise.nhn?symbol=DJI@DJI&amp;fdtc=0\" onclick=\"clickcr(this,'wst.dow','','',event)\">다우산업</a>\n",
      "<a href=\"/world/sise.nhn?symbol=NAS@IXIC&amp;fdtc=0\" onclick=\"clickcr(this,'wst.nasdaq','','',event)\"> 나스닥</a>\n",
      "<a href=\"/world/sise.nhn?symbol=HSI@HSCE&amp;fdtc=0\" onclick=\"clickcr(this,'wst.hsce','','',event)\"> 홍콩H</a>\n",
      "<a href=\"/world/sise.nhn?symbol=SHS@000001&amp;fdtc=0\" onclick=\"clickcr(this,'wst.shs','','',event)\"> 상해종합</a>\n",
      "<a href=\"/world/sise.nhn?symbol=NII@NI225&amp;fdtc=0\" onclick=\"clickcr(this,'wst.ni225','','',event)\"> 니케이225</a>\n"
     ]
    }
   ],
   "source": [
    "import requests\n",
    "from bs4 import BeautifulSoup\n",
    "res = requests.get('https://finance.naver.com/sise/')\n",
    "soup = BeautifulSoup(res.content,'html.parser')\n",
    "data = soup.select('div.rgt > ul.lst_major > li')\n",
    "for item in data:\n",
    "    print(item.find('a'))"
   ]
  },
  {
   "cell_type": "code",
   "execution_count": 11,
   "metadata": {},
   "outputs": [
    {
     "name": "stdout",
     "output_type": "stream",
     "text": [
      "다우산업\n",
      " 나스닥\n",
      " 홍콩H\n",
      " 상해종합\n",
      " 니케이225\n"
     ]
    }
   ],
   "source": [
    "import requests\n",
    "from bs4 import BeautifulSoup\n",
    "res = requests.get('https://finance.naver.com/sise/')\n",
    "soup = BeautifulSoup(res.content,'html.parser')\n",
    "data = soup.select('div.rgt > ul.lst_major > li')\n",
    "for item in data:\n",
    "    print(item.find('a').get_text())"
   ]
  },
  {
   "cell_type": "code",
   "execution_count": 13,
   "metadata": {},
   "outputs": [
    {
     "name": "stdout",
     "output_type": "stream",
     "text": [
      "다우산업 28,583.68 하락\n",
      " 나스닥 9,068.58 하락\n",
      " 홍콩H 11,198.75 상승\n",
      " 상해종합 3,104.80 상승\n",
      " 니케이225 23,575.72 상승\n"
     ]
    }
   ],
   "source": [
    "import requests\n",
    "from bs4 import BeautifulSoup\n",
    "res = requests.get('https://finance.naver.com/sise/')\n",
    "soup = BeautifulSoup(res.content,'html.parser')\n",
    "data = soup.select('div.rgt > ul.lst_major > li')\n",
    "for item in data:\n",
    "    print(\"item.find('a').get_text(), item.find('span').get_text(), item.find('em').get_text())"
   ]
  },
  {
   "cell_type": "code",
   "execution_count": null,
   "metadata": {},
   "outputs": [],
   "source": []
  }
 ],
 "metadata": {
  "kernelspec": {
   "display_name": "Python 3",
   "language": "python",
   "name": "python3"
  },
  "language_info": {
   "codemirror_mode": {
    "name": "ipython",
    "version": 3
   },
   "file_extension": ".py",
   "mimetype": "text/x-python",
   "name": "python",
   "nbconvert_exporter": "python",
   "pygments_lexer": "ipython3",
   "version": "3.7.1"
  }
 },
 "nbformat": 4,
 "nbformat_minor": 2
}
