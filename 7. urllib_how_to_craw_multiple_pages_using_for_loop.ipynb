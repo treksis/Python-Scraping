{
 "cells": [
  {
   "cell_type": "code",
   "execution_count": null,
   "metadata": {},
   "outputs": [],
   "source": [
    "from url.request import urlopen\n",
    "from bs4 import BeautifulSoup\n",
    "\n",
    "for index in range(1,6):\n",
    "    res = urlopen('https://seeko.earlyadopter.co.kr/bbs/board.php?bo_table=mainnews&page='+str(index))\n",
    "    soup = BeautifulSoup(res, \"html.parser\")\n",
    "    \n",
    "    data = soup.find_all(\"td\",\"article_subject\")\n",
    "    for item in data:\n",
    "        print(item.get_text())"
   ]
  }
 ],
 "metadata": {
  "kernelspec": {
   "display_name": "Python 3",
   "language": "python",
   "name": "python3"
  },
  "language_info": {
   "codemirror_mode": {
    "name": "ipython",
    "version": 3
   },
   "file_extension": ".py",
   "mimetype": "text/x-python",
   "name": "python",
   "nbconvert_exporter": "python",
   "pygments_lexer": "ipython3",
   "version": "3.7.1"
  }
 },
 "nbformat": 4,
 "nbformat_minor": 2
}
