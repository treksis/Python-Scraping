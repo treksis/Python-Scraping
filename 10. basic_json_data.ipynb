{
 "cells": [
  {
   "cell_type": "code",
   "execution_count": 1,
   "metadata": {},
   "outputs": [],
   "source": [
    "import json"
   ]
  },
  {
   "cell_type": "code",
   "execution_count": 6,
   "metadata": {},
   "outputs": [],
   "source": [
    "data = \"\"\"\n",
    "{\n",
    "    \"lastBuildDate\": \"Sat, 22 Jun 2019 14:57:13 +0900\",\n",
    "    \"total\": 634151,\n",
    "    \"start\": 1,\n",
    "    \"display\": 10,\n",
    "    \"items\": [\n",
    "        {\n",
    "            \"title\": \"MHL 케이블 (아이폰, <b>안드로이드</b> 스마트폰 HDMI TV연결)\",\n",
    "            \"link\": \"https://search.shopping.naver.com/gate.nhn?id=10782444869\",\n",
    "            \"image\": \"https://shopping-phinf.pstatic.net/main_1078244/10782444869.5.jpg\",\n",
    "            \"lprice\": \"16500\",\n",
    "            \"hprice\": \"0\",\n",
    "            \"mallName\": \"투데이샵\",\n",
    "            \"productId\": \"10782444869\",\n",
    "            \"productType\": \"2\"\n",
    "        },\n",
    "        {\n",
    "            \"title\": \"파인디지털 파인드라이브 Q300\",\n",
    "            \"link\": \"https://search.shopping.naver.com/gate.nhn?id=19490416717\",\n",
    "            \"image\": \"https://shopping-phinf.pstatic.net/main_1949041/19490416717.20190527115824.jpg\",\n",
    "            \"lprice\": \"227050\",\n",
    "            \"hprice\": \"359000\",\n",
    "            \"mallName\": \"네이버\",\n",
    "            \"productId\": \"19490416717\",\n",
    "            \"productType\": \"1\"\n",
    "        },\n",
    "        {\n",
    "            \"title\": \"주파집 USB NEW 마그네틱 5핀 <b>안드로이드</b> 자석 고속충전케이블\",\n",
    "            \"link\": \"https://search.shopping.naver.com/gate.nhn?id=16222651410\",\n",
    "            \"image\": \"https://shopping-phinf.pstatic.net/main_1622265/16222651410.20181120154423.jpg\",\n",
    "            \"lprice\": \"6500\",\n",
    "            \"hprice\": \"11900\",\n",
    "            \"mallName\": \"네이버\",\n",
    "            \"productId\": \"16222651410\",\n",
    "            \"productType\": \"1\"\n",
    "        },\n",
    "        {\n",
    "            \"title\": \"MHL 케이블 아이폰 <b>안드로이드</b> HDMI 미러링\",\n",
    "            \"link\": \"https://search.shopping.naver.com/gate.nhn?id=11859583359\",\n",
    "            \"image\": \"https://shopping-phinf.pstatic.net/main_1185958/11859583359.1.jpg\",\n",
    "            \"lprice\": \"12500\",\n",
    "            \"hprice\": \"0\",\n",
    "            \"mallName\": \"가가넷\",\n",
    "            \"productId\": \"11859583359\",\n",
    "            \"productType\": \"2\"\n",
    "        },\n",
    "        {\n",
    "            \"title\": \"아이폰삼각대 / ios&amp;<b>Android</b> 호환 가능\",\n",
    "            \"link\": \"https://search.shopping.naver.com/gate.nhn?id=16341221561\",\n",
    "            \"image\": \"https://shopping-phinf.pstatic.net/main_1634122/16341221561.4.jpg\",\n",
    "            \"lprice\": \"31900\",\n",
    "            \"hprice\": \"0\",\n",
    "            \"mallName\": \"포시즌몰\",\n",
    "            \"productId\": \"16341221561\",\n",
    "            \"productType\": \"2\"\n",
    "        },\n",
    "        {\n",
    "            \"title\": \"뷰잉 (viewing)\",\n",
    "            \"link\": \"https://search.shopping.naver.com/gate.nhn?id=13030462232\",\n",
    "            \"image\": \"https://shopping-phinf.pstatic.net/main_1303046/13030462232.20190306144248.jpg\",\n",
    "            \"lprice\": \"87110\",\n",
    "            \"hprice\": \"180000\",\n",
    "            \"mallName\": \"네이버\",\n",
    "            \"productId\": \"13030462232\",\n",
    "            \"productType\": \"1\"\n",
    "        },\n",
    "        {\n",
    "            \"title\": \"샤오미 Mi Box (TELEBEE)\",\n",
    "            \"link\": \"https://search.shopping.naver.com/gate.nhn?id=12302122742\",\n",
    "            \"image\": \"https://shopping-phinf.pstatic.net/main_1230212/12302122742.20170920112004.jpg\",\n",
    "            \"lprice\": \"54900\",\n",
    "            \"hprice\": \"99000\",\n",
    "            \"mallName\": \"네이버\",\n",
    "            \"productId\": \"12302122742\",\n",
    "            \"productType\": \"1\"\n",
    "        },\n",
    "        {\n",
    "            \"title\": \"MHL 케이블 아이폰 <b>안드로이드</b> HDMI 미러링 TV연결\",\n",
    "            \"link\": \"https://search.shopping.naver.com/gate.nhn?id=8678305242\",\n",
    "            \"image\": \"https://shopping-phinf.pstatic.net/main_8678305/8678305242.5.jpg\",\n",
    "            \"lprice\": \"5500\",\n",
    "            \"hprice\": \"0\",\n",
    "            \"mallName\": \"글로벌텐교\",\n",
    "            \"productId\": \"8678305242\",\n",
    "            \"productType\": \"2\"\n",
    "        },\n",
    "        {\n",
    "            \"title\": \"파인디지털 파인드라이브 Q30\",\n",
    "            \"link\": \"https://search.shopping.naver.com/gate.nhn?id=18711239261\",\n",
    "            \"image\": \"https://shopping-phinf.pstatic.net/main_1871123/18711239261.20190415105108.jpg\",\n",
    "            \"lprice\": \"199000\",\n",
    "            \"hprice\": \"315640\",\n",
    "            \"mallName\": \"네이버\",\n",
    "            \"productId\": \"18711239261\",\n",
    "            \"productType\": \"1\"\n",
    "        },\n",
    "        {\n",
    "            \"title\": \"이노아이오 스마트빔 3\",\n",
    "            \"link\": \"https://search.shopping.naver.com/gate.nhn?id=14032821135\",\n",
    "            \"image\": \"https://shopping-phinf.pstatic.net/main_1403282/14032821135.20180413144450.jpg\",\n",
    "            \"lprice\": \"259870\",\n",
    "            \"hprice\": \"387000\",\n",
    "            \"mallName\": \"네이버\",\n",
    "            \"productId\": \"14032821135\",\n",
    "            \"productType\": \"1\"\n",
    "        }\n",
    "    ]\n",
    "}\n",
    "\"\"\"\n",
    "json_data = json.loads(data)"
   ]
  },
  {
   "cell_type": "code",
   "execution_count": 7,
   "metadata": {},
   "outputs": [
    {
     "name": "stdout",
     "output_type": "stream",
     "text": [
      "{'lastBuildDate': 'Sat, 22 Jun 2019 14:57:13 +0900', 'total': 634151, 'start': 1, 'display': 10, 'items': [{'title': 'MHL 케이블 (아이폰, <b>안드로이드</b> 스마트폰 HDMI TV연결)', 'link': 'https://search.shopping.naver.com/gate.nhn?id=10782444869', 'image': 'https://shopping-phinf.pstatic.net/main_1078244/10782444869.5.jpg', 'lprice': '16500', 'hprice': '0', 'mallName': '투데이샵', 'productId': '10782444869', 'productType': '2'}, {'title': '파인디지털 파인드라이브 Q300', 'link': 'https://search.shopping.naver.com/gate.nhn?id=19490416717', 'image': 'https://shopping-phinf.pstatic.net/main_1949041/19490416717.20190527115824.jpg', 'lprice': '227050', 'hprice': '359000', 'mallName': '네이버', 'productId': '19490416717', 'productType': '1'}, {'title': '주파집 USB NEW 마그네틱 5핀 <b>안드로이드</b> 자석 고속충전케이블', 'link': 'https://search.shopping.naver.com/gate.nhn?id=16222651410', 'image': 'https://shopping-phinf.pstatic.net/main_1622265/16222651410.20181120154423.jpg', 'lprice': '6500', 'hprice': '11900', 'mallName': '네이버', 'productId': '16222651410', 'productType': '1'}, {'title': 'MHL 케이블 아이폰 <b>안드로이드</b> HDMI 미러링', 'link': 'https://search.shopping.naver.com/gate.nhn?id=11859583359', 'image': 'https://shopping-phinf.pstatic.net/main_1185958/11859583359.1.jpg', 'lprice': '12500', 'hprice': '0', 'mallName': '가가넷', 'productId': '11859583359', 'productType': '2'}, {'title': '아이폰삼각대 / ios&amp;<b>Android</b> 호환 가능', 'link': 'https://search.shopping.naver.com/gate.nhn?id=16341221561', 'image': 'https://shopping-phinf.pstatic.net/main_1634122/16341221561.4.jpg', 'lprice': '31900', 'hprice': '0', 'mallName': '포시즌몰', 'productId': '16341221561', 'productType': '2'}, {'title': '뷰잉 (viewing)', 'link': 'https://search.shopping.naver.com/gate.nhn?id=13030462232', 'image': 'https://shopping-phinf.pstatic.net/main_1303046/13030462232.20190306144248.jpg', 'lprice': '87110', 'hprice': '180000', 'mallName': '네이버', 'productId': '13030462232', 'productType': '1'}, {'title': '샤오미 Mi Box (TELEBEE)', 'link': 'https://search.shopping.naver.com/gate.nhn?id=12302122742', 'image': 'https://shopping-phinf.pstatic.net/main_1230212/12302122742.20170920112004.jpg', 'lprice': '54900', 'hprice': '99000', 'mallName': '네이버', 'productId': '12302122742', 'productType': '1'}, {'title': 'MHL 케이블 아이폰 <b>안드로이드</b> HDMI 미러링 TV연결', 'link': 'https://search.shopping.naver.com/gate.nhn?id=8678305242', 'image': 'https://shopping-phinf.pstatic.net/main_8678305/8678305242.5.jpg', 'lprice': '5500', 'hprice': '0', 'mallName': '글로벌텐교', 'productId': '8678305242', 'productType': '2'}, {'title': '파인디지털 파인드라이브 Q30', 'link': 'https://search.shopping.naver.com/gate.nhn?id=18711239261', 'image': 'https://shopping-phinf.pstatic.net/main_1871123/18711239261.20190415105108.jpg', 'lprice': '199000', 'hprice': '315640', 'mallName': '네이버', 'productId': '18711239261', 'productType': '1'}, {'title': '이노아이오 스마트빔 3', 'link': 'https://search.shopping.naver.com/gate.nhn?id=14032821135', 'image': 'https://shopping-phinf.pstatic.net/main_1403282/14032821135.20180413144450.jpg', 'lprice': '259870', 'hprice': '387000', 'mallName': '네이버', 'productId': '14032821135', 'productType': '1'}]}\n"
     ]
    }
   ],
   "source": [
    "print(json_data)"
   ]
  },
  {
   "cell_type": "code",
   "execution_count": 10,
   "metadata": {},
   "outputs": [
    {
     "name": "stdout",
     "output_type": "stream",
     "text": [
      "634151\n"
     ]
    }
   ],
   "source": [
    "print(json_data['total'])"
   ]
  },
  {
   "cell_type": "code",
   "execution_count": 12,
   "metadata": {},
   "outputs": [
    {
     "name": "stdout",
     "output_type": "stream",
     "text": [
      "[{'title': 'MHL 케이블 (아이폰, <b>안드로이드</b> 스마트폰 HDMI TV연결)', 'link': 'https://search.shopping.naver.com/gate.nhn?id=10782444869', 'image': 'https://shopping-phinf.pstatic.net/main_1078244/10782444869.5.jpg', 'lprice': '16500', 'hprice': '0', 'mallName': '투데이샵', 'productId': '10782444869', 'productType': '2'}, {'title': '파인디지털 파인드라이브 Q300', 'link': 'https://search.shopping.naver.com/gate.nhn?id=19490416717', 'image': 'https://shopping-phinf.pstatic.net/main_1949041/19490416717.20190527115824.jpg', 'lprice': '227050', 'hprice': '359000', 'mallName': '네이버', 'productId': '19490416717', 'productType': '1'}, {'title': '주파집 USB NEW 마그네틱 5핀 <b>안드로이드</b> 자석 고속충전케이블', 'link': 'https://search.shopping.naver.com/gate.nhn?id=16222651410', 'image': 'https://shopping-phinf.pstatic.net/main_1622265/16222651410.20181120154423.jpg', 'lprice': '6500', 'hprice': '11900', 'mallName': '네이버', 'productId': '16222651410', 'productType': '1'}, {'title': 'MHL 케이블 아이폰 <b>안드로이드</b> HDMI 미러링', 'link': 'https://search.shopping.naver.com/gate.nhn?id=11859583359', 'image': 'https://shopping-phinf.pstatic.net/main_1185958/11859583359.1.jpg', 'lprice': '12500', 'hprice': '0', 'mallName': '가가넷', 'productId': '11859583359', 'productType': '2'}, {'title': '아이폰삼각대 / ios&amp;<b>Android</b> 호환 가능', 'link': 'https://search.shopping.naver.com/gate.nhn?id=16341221561', 'image': 'https://shopping-phinf.pstatic.net/main_1634122/16341221561.4.jpg', 'lprice': '31900', 'hprice': '0', 'mallName': '포시즌몰', 'productId': '16341221561', 'productType': '2'}, {'title': '뷰잉 (viewing)', 'link': 'https://search.shopping.naver.com/gate.nhn?id=13030462232', 'image': 'https://shopping-phinf.pstatic.net/main_1303046/13030462232.20190306144248.jpg', 'lprice': '87110', 'hprice': '180000', 'mallName': '네이버', 'productId': '13030462232', 'productType': '1'}, {'title': '샤오미 Mi Box (TELEBEE)', 'link': 'https://search.shopping.naver.com/gate.nhn?id=12302122742', 'image': 'https://shopping-phinf.pstatic.net/main_1230212/12302122742.20170920112004.jpg', 'lprice': '54900', 'hprice': '99000', 'mallName': '네이버', 'productId': '12302122742', 'productType': '1'}, {'title': 'MHL 케이블 아이폰 <b>안드로이드</b> HDMI 미러링 TV연결', 'link': 'https://search.shopping.naver.com/gate.nhn?id=8678305242', 'image': 'https://shopping-phinf.pstatic.net/main_8678305/8678305242.5.jpg', 'lprice': '5500', 'hprice': '0', 'mallName': '글로벌텐교', 'productId': '8678305242', 'productType': '2'}, {'title': '파인디지털 파인드라이브 Q30', 'link': 'https://search.shopping.naver.com/gate.nhn?id=18711239261', 'image': 'https://shopping-phinf.pstatic.net/main_1871123/18711239261.20190415105108.jpg', 'lprice': '199000', 'hprice': '315640', 'mallName': '네이버', 'productId': '18711239261', 'productType': '1'}, {'title': '이노아이오 스마트빔 3', 'link': 'https://search.shopping.naver.com/gate.nhn?id=14032821135', 'image': 'https://shopping-phinf.pstatic.net/main_1403282/14032821135.20180413144450.jpg', 'lprice': '259870', 'hprice': '387000', 'mallName': '네이버', 'productId': '14032821135', 'productType': '1'}]\n"
     ]
    }
   ],
   "source": [
    "print(json_data['items'])"
   ]
  },
  {
   "cell_type": "code",
   "execution_count": 13,
   "metadata": {},
   "outputs": [
    {
     "name": "stdout",
     "output_type": "stream",
     "text": [
      "{'title': 'MHL 케이블 (아이폰, <b>안드로이드</b> 스마트폰 HDMI TV연결)', 'link': 'https://search.shopping.naver.com/gate.nhn?id=10782444869', 'image': 'https://shopping-phinf.pstatic.net/main_1078244/10782444869.5.jpg', 'lprice': '16500', 'hprice': '0', 'mallName': '투데이샵', 'productId': '10782444869', 'productType': '2'}\n"
     ]
    }
   ],
   "source": [
    "print(json_data['items'][0])"
   ]
  },
  {
   "cell_type": "code",
   "execution_count": 14,
   "metadata": {},
   "outputs": [
    {
     "name": "stdout",
     "output_type": "stream",
     "text": [
      "MHL 케이블 (아이폰, <b>안드로이드</b> 스마트폰 HDMI TV연결)\n"
     ]
    }
   ],
   "source": [
    "print(json_data['items'][0]['title'])"
   ]
  },
  {
   "cell_type": "code",
   "execution_count": null,
   "metadata": {},
   "outputs": [],
   "source": []
  }
 ],
 "metadata": {
  "kernelspec": {
   "display_name": "Python 3",
   "language": "python",
   "name": "python3"
  },
  "language_info": {
   "codemirror_mode": {
    "name": "ipython",
    "version": 3
   },
   "file_extension": ".py",
   "mimetype": "text/x-python",
   "name": "python",
   "nbconvert_exporter": "python",
   "pygments_lexer": "ipython3",
   "version": "3.7.1"
  }
 },
 "nbformat": 4,
 "nbformat_minor": 2
}
